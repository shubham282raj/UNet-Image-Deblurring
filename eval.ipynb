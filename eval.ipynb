{
 "cells": [
  {
   "cell_type": "code",
   "execution_count": null,
   "metadata": {},
   "outputs": [],
   "source": [
    "%load_ext autoreload\n",
    "%autoreload 2\n",
    "\n",
    "from utils.dataloader import load_base_dataset, load_processed_dataset, create_torch_dataloader\n",
    "from utils.image_processing import process_images\n",
    "from unet.unet_model import UNet\n",
    "from utils.train import train_model\n",
    "from utils.checkpoint import save_checkpoint, load_checkpoint\n",
    "import matplotlib.pyplot as plt"
   ]
  },
  {
   "cell_type": "code",
   "execution_count": null,
   "metadata": {},
   "outputs": [],
   "source": [
    "import os\n",
    "if os.path.exists('dataset/custom_test/sharp'):\n",
    "    for file in os.listdir('dataset/custom_test/sharp'):\n",
    "        os.remove('dataset/custom_test/sharp/' + file)\n",
    "    os.rmdir('dataset/custom_test/sharp')"
   ]
  },
  {
   "cell_type": "code",
   "execution_count": null,
   "metadata": {},
   "outputs": [],
   "source": [
    "import torch\n",
    "from torch.utils.data import DataLoader\n",
    "from torchvision import datasets, transforms"
   ]
  },
  {
   "cell_type": "code",
   "execution_count": null,
   "metadata": {},
   "outputs": [],
   "source": [
    "test_dataset = datasets.ImageFolder(root='dataset/custom_test', transform=transforms.ToTensor())\n",
    "test_dataloader = DataLoader(test_dataset, batch_size=2, shuffle=False)"
   ]
  },
  {
   "cell_type": "code",
   "execution_count": null,
   "metadata": {},
   "outputs": [],
   "source": [
    "print(test_dataset)\n",
    "print(test_dataloader)"
   ]
  },
  {
   "cell_type": "code",
   "execution_count": null,
   "metadata": {},
   "outputs": [],
   "source": [
    "model = UNet(3, 3)\n",
    "print(f\"{sum(p.numel() for p in model.parameters() if p.requires_grad) / 1000000}M Parameters\")"
   ]
  },
  {
   "cell_type": "code",
   "execution_count": null,
   "metadata": {},
   "outputs": [],
   "source": [
    "prev_checkpoint = load_checkpoint(\"checkpoint.pth\")"
   ]
  },
  {
   "cell_type": "code",
   "execution_count": null,
   "metadata": {},
   "outputs": [],
   "source": [
    "model.load_state_dict(prev_checkpoint['model_state'])"
   ]
  },
  {
   "cell_type": "code",
   "execution_count": null,
   "metadata": {},
   "outputs": [],
   "source": [
    "if not os.path.exists('dataset/final_output/sharp'):\n",
    "    os.makedirs('dataset/final_output/sharp')\n",
    "else:\n",
    "    for file in os.listdir('dataset/final_output/sharp'):\n",
    "        os.remove('dataset/final_output/sharp/' + file)\n",
    "if not os.path.exists('dataset/final_output/blur'):\n",
    "    os.makedirs('dataset/final_output/blur')\n",
    "else:\n",
    "    for file in os.listdir('dataset/final_output/blur'):\n",
    "        os.remove('dataset/final_output/blur/' + file)\n",
    "\n",
    "model.eval()\n",
    "model.to('cuda')\n",
    "\n",
    "with torch.no_grad():\n",
    "    for i, (data, target) in enumerate(test_dataloader):\n",
    "        data = data.to('cuda')\n",
    "        output = model(data)\n",
    "        for j in range(output.shape[0]):\n",
    "            output[j] = output[j].clamp(0, 1)\n",
    "            save_image_sharp = transforms.ToPILImage()(output[j].detach().cpu())\n",
    "            save_image_blur = transforms.ToPILImage()(data[j].detach().cpu())\n",
    "            save_image_sharp.save(f\"dataset/final_output/sharp/{i*2+j}.png\")\n",
    "            save_image_blur.save(f\"dataset/final_output/blur/{i*2+j}.png\")\n",
    "        if i % 10 == 0:\n",
    "            fig, axes = plt.subplots(nrows=1, ncols=2, figsize=(10,5))\n",
    "            axes[0].imshow(data[0].detach().cpu().permute(1,2,0))\n",
    "            axes[1].imshow(output[0].detach().cpu().permute(1,2,0))\n",
    "            axes[0].axis('off')\n",
    "            axes[1].axis('off')\n",
    "            fig.tight_layout()\n",
    "            plt.show()"
   ]
  },
  {
   "cell_type": "code",
   "execution_count": null,
   "metadata": {},
   "outputs": [],
   "source": [
    "import utils.eval"
   ]
  }
 ],
 "metadata": {
  "kernelspec": {
   "display_name": "Python 3",
   "language": "python",
   "name": "python3"
  },
  "language_info": {
   "codemirror_mode": {
    "name": "ipython",
    "version": 3
   },
   "file_extension": ".py",
   "mimetype": "text/x-python",
   "name": "python",
   "nbconvert_exporter": "python",
   "pygments_lexer": "ipython3",
   "version": "3.12.2"
  }
 },
 "nbformat": 4,
 "nbformat_minor": 2
}
