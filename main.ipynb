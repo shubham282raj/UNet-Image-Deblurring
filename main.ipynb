{
 "cells": [
  {
   "cell_type": "code",
   "execution_count": null,
   "metadata": {},
   "outputs": [],
   "source": [
    "%load_ext autoreload\n",
    "%autoreload 2\n",
    "\n",
    "from utils.dataloader import load_base_dataset, load_processed_dataset, create_torch_dataloader\n",
    "from utils.image_processing import process_images"
   ]
  },
  {
   "cell_type": "code",
   "execution_count": null,
   "metadata": {},
   "outputs": [],
   "source": [
    "dataset = load_base_dataset()"
   ]
  },
  {
   "cell_type": "code",
   "execution_count": null,
   "metadata": {},
   "outputs": [],
   "source": [
    "process_images()"
   ]
  },
  {
   "cell_type": "code",
   "execution_count": null,
   "metadata": {},
   "outputs": [],
   "source": [
    "processed_dataset = load_processed_dataset()"
   ]
  },
  {
   "cell_type": "code",
   "execution_count": null,
   "metadata": {},
   "outputs": [],
   "source": [
    "import matplotlib.pyplot as plt\n",
    "row = 10\n",
    "row = processed_dataset[row]\n",
    "fig, axes = plt.subplots(nrows=1, ncols=2, figsize=(10,5))\n",
    "axes[0].imshow(plt.imread(row[0]))\n",
    "axes[1].imshow(plt.imread(row[1]))\n",
    "axes[0].axis('off')\n",
    "axes[1].axis('off')\n",
    "fig.tight_layout()\n",
    "plt.show()"
   ]
  },
  {
   "cell_type": "code",
   "execution_count": null,
   "metadata": {},
   "outputs": [],
   "source": [
    "dataloader = create_torch_dataloader(processed_dataset, 2, True, True, 0.2)\n",
    "dataset_size_train = len(dataloader['train'].dataset)\n",
    "dataset_size_val = len(dataloader['val'].dataset)\n",
    "dataloader_size_train = len(dataloader['train'])\n",
    "dataloader_size_val = len(dataloader['val'])\n",
    "print(dataset_size_train, dataset_size_val, dataloader_size_train, dataloader_size_val)\n",
    "print(sum([dataset_size_train, dataset_size_val]))"
   ]
  },
  {
   "cell_type": "code",
   "execution_count": null,
   "metadata": {},
   "outputs": [],
   "source": [
    "from unet.unet_model import UNet\n",
    "from utils.train import train_model"
   ]
  },
  {
   "cell_type": "code",
   "execution_count": null,
   "metadata": {},
   "outputs": [],
   "source": [
    "model = UNet(3, 3)\n",
    "print(sum(p.numel() for p in model.parameters() if p.requires_grad) / 1000000)"
   ]
  },
  {
   "cell_type": "code",
   "execution_count": null,
   "metadata": {},
   "outputs": [],
   "source": [
    "model, checkpoint = train_model(model, dataloader, num_epoch=2)"
   ]
  },
  {
   "cell_type": "code",
   "execution_count": null,
   "metadata": {},
   "outputs": [],
   "source": []
  }
 ],
 "metadata": {
  "kernelspec": {
   "display_name": "Python 3",
   "language": "python",
   "name": "python3"
  },
  "language_info": {
   "codemirror_mode": {
    "name": "ipython",
    "version": 3
   },
   "file_extension": ".py",
   "mimetype": "text/x-python",
   "name": "python",
   "nbconvert_exporter": "python",
   "pygments_lexer": "ipython3",
   "version": "3.12.2"
  }
 },
 "nbformat": 4,
 "nbformat_minor": 2
}
